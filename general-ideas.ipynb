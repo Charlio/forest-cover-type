{
 "cells": [
  {
   "cell_type": "markdown",
   "metadata": {},
   "source": [
    "# Gaussian Mixture"
   ]
  },
  {
   "cell_type": "markdown",
   "metadata": {},
   "source": [
    "give predicted initial centers to start"
   ]
  },
  {
   "cell_type": "markdown",
   "metadata": {},
   "source": [
    "## How to detect a very small Gaussian distribution from a neighboring large one"
   ]
  },
  {
   "cell_type": "markdown",
   "metadata": {},
   "source": [
    "### localize and rescale"
   ]
  },
  {
   "cell_type": "markdown",
   "metadata": {},
   "source": [
    "Once have the two sets of parameters of the two Gaussian distributions, can we successfully cluster on them?\n",
    "\n",
    "- Variational Bayesian Gaussian Mixture: http://scikit-learn.org/stable/modules/mixture.html\n",
    "- variational methods add regularization by integrating information from prior distributions\n",
    "- Dirichlet process prior"
   ]
  },
  {
   "cell_type": "markdown",
   "metadata": {},
   "source": [
    "# SVM"
   ]
  },
  {
   "cell_type": "markdown",
   "metadata": {},
   "source": [
    "## Novelty Detection with one class SVM"
   ]
  },
  {
   "cell_type": "markdown",
   "metadata": {},
   "source": [
    "http://scikit-learn.org/stable/modules/outlier_detection.html#id1"
   ]
  },
  {
   "cell_type": "markdown",
   "metadata": {},
   "source": [
    "use masks generated from analysis of Elevation to clean the dataset to get an approximate normal set"
   ]
  },
  {
   "cell_type": "markdown",
   "metadata": {},
   "source": [
    "## Outlier Detection"
   ]
  },
  {
   "cell_type": "markdown",
   "metadata": {},
   "source": [
    "- Assume the normal data come from a Gaussian distribution to define the shape of the data: ellipticEnvelope\n",
    "- The Mahalanobis distances obtained from this estimate is used to derive a measure of outlyingness.\n",
    "- Isolation forest (random forest), 'isolates’ observations by randomly selecting a feature and then randomly selecting a split value between the maximum and minimum values of the selected feature\n",
    "- Local Outlier Factor (LOF) algorithm: It measures the local density deviation of a given data point with respect to its neighbors. The idea is to detect the samples that have a substantially lower density than their neighbors"
   ]
  },
  {
   "cell_type": "markdown",
   "metadata": {},
   "source": [
    "# Neural network models"
   ]
  },
  {
   "cell_type": "markdown",
   "metadata": {},
   "source": [
    "## Restricted Boltzmann machines"
   ]
  },
  {
   "cell_type": "markdown",
   "metadata": {},
   "source": [
    "- The model makes assumptions regarding the distribution of inputs. At the moment, scikit-learn only provides BernoulliRBM, which assumes the inputs are either binary values or values between 0 and 1, each encoding the probability that the specific feature would be turned on."
   ]
  },
  {
   "cell_type": "markdown",
   "metadata": {},
   "source": [
    "# Imbalanced Classification Problem"
   ]
  },
  {
   "cell_type": "markdown",
   "metadata": {},
   "source": [
    "- solving such class imbalance problems using various sampling techniques\n",
    "- create a balanced class distribution and apply ensemble learning technique designed especially for this purpose\n",
    "- https://www.analyticsvidhya.com/blog/2017/03/imbalanced-classification-problem/"
   ]
  },
  {
   "cell_type": "markdown",
   "metadata": {},
   "source": [
    "- ramdom under-sampling and over-sampling\n",
    "- oversampling outperformes under-sampling, but may lead to overfitting, and large training dataset\n",
    "- use autoencoder to generate synthetic minority data?, helps avoiding overfitting?\n",
    "- SMOTE is not very effective for high dimensional data (280,000 points with 10 features is low-dim)"
   ]
  },
  {
   "cell_type": "markdown",
   "metadata": {},
   "source": [
    "## Try SMOTE with initial predicted masks, maybe use autoencoder"
   ]
  },
  {
   "cell_type": "markdown",
   "metadata": {},
   "source": [
    "## Modifying existing classification algorithms to make them appropriate for imbalanced data sets: Ensemble methods"
   ]
  },
  {
   "cell_type": "markdown",
   "metadata": {},
   "source": [
    "- bagging \n",
    "- boosting"
   ]
  },
  {
   "cell_type": "markdown",
   "metadata": {},
   "source": [
    "## Semi-Supervised Anomaly Detection"
   ]
  },
  {
   "cell_type": "markdown",
   "metadata": {},
   "source": [
    "https://www.kaggle.com/matheusfacure/semi-supervised-anomaly-detection-survey?scriptVersionId=1100683"
   ]
  },
  {
   "cell_type": "code",
   "execution_count": null,
   "metadata": {
    "collapsed": true
   },
   "outputs": [],
   "source": []
  }
 ],
 "metadata": {
  "kernelspec": {
   "display_name": "Python 2",
   "language": "python",
   "name": "python2"
  },
  "language_info": {
   "codemirror_mode": {
    "name": "ipython",
    "version": 2
   },
   "file_extension": ".py",
   "mimetype": "text/x-python",
   "name": "python",
   "nbconvert_exporter": "python",
   "pygments_lexer": "ipython2",
   "version": "2.7.14"
  }
 },
 "nbformat": 4,
 "nbformat_minor": 2
}
