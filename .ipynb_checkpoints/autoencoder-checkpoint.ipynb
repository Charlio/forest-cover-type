{
 "cells": [
  {
   "cell_type": "code",
   "execution_count": 1,
   "metadata": {},
   "outputs": [
    {
     "name": "stderr",
     "output_type": "stream",
     "text": [
      "Using TensorFlow backend.\n"
     ]
    }
   ],
   "source": [
    "import pandas as pd\n",
    "import numpy as np\n",
    "import pickle\n",
    "import matplotlib.pyplot as plt\n",
    "from scipy import stats\n",
    "import tensorflow as tf\n",
    "import seaborn as sns\n",
    "from pylab import rcParams\n",
    "from sklearn.model_selection import train_test_split\n",
    "from keras.models import Model, load_model\n",
    "from keras.layers import Input, Dense\n",
    "from keras.callbacks import ModelCheckpoint, TensorBoard\n",
    "from keras import regularizers\n",
    "%matplotlib inline\n",
    "sns.set(style='whitegrid', palette='muted', font_scale=1.5)\n",
    "rcParams['figure.figsize'] = 14, 8"
   ]
  },
  {
   "cell_type": "code",
   "execution_count": 17,
   "metadata": {
    "collapsed": true
   },
   "outputs": [],
   "source": [
    "data = pd.read_csv(\"data_without_labels.csv\")"
   ]
  },
  {
   "cell_type": "code",
   "execution_count": 18,
   "metadata": {},
   "outputs": [
    {
     "name": "stdout",
     "output_type": "stream",
     "text": [
      "Observation_ID\n",
      "Elevation\n",
      "Aspect\n",
      "Slope\n",
      "Horizontal_Distance_To_Hydrology\n",
      "Vertical_Distance_To_Hydrology\n",
      "Horizontal_Distance_To_Roadways\n",
      "Hillshade_9am\n",
      "Hillshade_Noon\n",
      "Hillshade_3pm\n",
      "Horizontal_Distance_To_Fire_Points\n"
     ]
    },
    {
     "name": "stderr",
     "output_type": "stream",
     "text": [
      "C:\\Users\\chali\\Miniconda3\\envs\\tensorflow\\lib\\site-packages\\sklearn\\utils\\validation.py:475: DataConversionWarning: Data with input dtype int64 was converted to float64 by StandardScaler.\n",
      "  warnings.warn(msg, DataConversionWarning)\n"
     ]
    },
    {
     "data": {
      "text/html": [
       "<div>\n",
       "<style>\n",
       "    .dataframe thead tr:only-child th {\n",
       "        text-align: right;\n",
       "    }\n",
       "\n",
       "    .dataframe thead th {\n",
       "        text-align: left;\n",
       "    }\n",
       "\n",
       "    .dataframe tbody tr th {\n",
       "        vertical-align: top;\n",
       "    }\n",
       "</style>\n",
       "<table border=\"1\" class=\"dataframe\">\n",
       "  <thead>\n",
       "    <tr style=\"text-align: right;\">\n",
       "      <th></th>\n",
       "      <th>Observation_ID</th>\n",
       "      <th>Elevation</th>\n",
       "      <th>Aspect</th>\n",
       "      <th>Slope</th>\n",
       "      <th>Horizontal_Distance_To_Hydrology</th>\n",
       "      <th>Vertical_Distance_To_Hydrology</th>\n",
       "      <th>Horizontal_Distance_To_Roadways</th>\n",
       "      <th>Hillshade_9am</th>\n",
       "      <th>Hillshade_Noon</th>\n",
       "      <th>Hillshade_3pm</th>\n",
       "      <th>Horizontal_Distance_To_Fire_Points</th>\n",
       "    </tr>\n",
       "  </thead>\n",
       "  <tbody>\n",
       "    <tr>\n",
       "      <th>count</th>\n",
       "      <td>286048.000000</td>\n",
       "      <td>2.860480e+05</td>\n",
       "      <td>2.860480e+05</td>\n",
       "      <td>2.860480e+05</td>\n",
       "      <td>2.860480e+05</td>\n",
       "      <td>2.860480e+05</td>\n",
       "      <td>2.860480e+05</td>\n",
       "      <td>2.860480e+05</td>\n",
       "      <td>2.860480e+05</td>\n",
       "      <td>2.860480e+05</td>\n",
       "      <td>2.860480e+05</td>\n",
       "    </tr>\n",
       "    <tr>\n",
       "      <th>mean</th>\n",
       "      <td>143024.500000</td>\n",
       "      <td>-6.821059e-16</td>\n",
       "      <td>8.823162e-17</td>\n",
       "      <td>5.663516e-17</td>\n",
       "      <td>2.041847e-17</td>\n",
       "      <td>5.633708e-17</td>\n",
       "      <td>4.918317e-17</td>\n",
       "      <td>9.347285e-17</td>\n",
       "      <td>-1.400975e-17</td>\n",
       "      <td>1.968320e-16</td>\n",
       "      <td>-5.762876e-17</td>\n",
       "    </tr>\n",
       "    <tr>\n",
       "      <th>std</th>\n",
       "      <td>82575.089238</td>\n",
       "      <td>1.000002e+00</td>\n",
       "      <td>1.000002e+00</td>\n",
       "      <td>1.000002e+00</td>\n",
       "      <td>1.000002e+00</td>\n",
       "      <td>1.000002e+00</td>\n",
       "      <td>1.000002e+00</td>\n",
       "      <td>1.000002e+00</td>\n",
       "      <td>1.000002e+00</td>\n",
       "      <td>1.000002e+00</td>\n",
       "      <td>1.000002e+00</td>\n",
       "    </tr>\n",
       "    <tr>\n",
       "      <th>min</th>\n",
       "      <td>1.000000</td>\n",
       "      <td>-4.678301e+00</td>\n",
       "      <td>-1.413336e+00</td>\n",
       "      <td>-1.904938e+00</td>\n",
       "      <td>-1.322143e+00</td>\n",
       "      <td>-3.805600e+00</td>\n",
       "      <td>-1.492490e+00</td>\n",
       "      <td>-8.574477e+00</td>\n",
       "      <td>-1.214145e+01</td>\n",
       "      <td>-3.908895e+00</td>\n",
       "      <td>-1.513780e+00</td>\n",
       "    </tr>\n",
       "    <tr>\n",
       "      <th>25%</th>\n",
       "      <td>71512.750000</td>\n",
       "      <td>-6.376309e-01</td>\n",
       "      <td>-8.551365e-01</td>\n",
       "      <td>-7.842469e-01</td>\n",
       "      <td>-7.519574e-01</td>\n",
       "      <td>-6.580200e-01</td>\n",
       "      <td>-7.984605e-01</td>\n",
       "      <td>-5.202654e-01</td>\n",
       "      <td>-5.523217e-01</td>\n",
       "      <td>-6.213487e-01</td>\n",
       "      <td>-6.956474e-01</td>\n",
       "    </tr>\n",
       "    <tr>\n",
       "      <th>50%</th>\n",
       "      <td>143024.500000</td>\n",
       "      <td>9.474053e-02</td>\n",
       "      <td>-2.411166e-01</td>\n",
       "      <td>-8.381491e-02</td>\n",
       "      <td>-1.817717e-01</td>\n",
       "      <td>-2.754412e-01</td>\n",
       "      <td>-2.465743e-01</td>\n",
       "      <td>2.010073e-01</td>\n",
       "      <td>9.451305e-02</td>\n",
       "      <td>-1.863195e-02</td>\n",
       "      <td>-2.272400e-01</td>\n",
       "    </tr>\n",
       "    <tr>\n",
       "      <th>75%</th>\n",
       "      <td>214536.250000</td>\n",
       "      <td>6.402309e-01</td>\n",
       "      <td>8.287667e-01</td>\n",
       "      <td>6.166171e-01</td>\n",
       "      <td>5.309606e-01</td>\n",
       "      <td>3.679867e-01</td>\n",
       "      <td>6.001045e-01</td>\n",
       "      <td>7.219265e-01</td>\n",
       "      <td>7.413478e-01</td>\n",
       "      <td>6.662735e-01</td>\n",
       "      <td>3.451019e-01</td>\n",
       "    </tr>\n",
       "    <tr>\n",
       "      <th>max</th>\n",
       "      <td>286048.000000</td>\n",
       "      <td>2.620159e+00</td>\n",
       "      <td>1.935863e+00</td>\n",
       "      <td>7.340764e+00</td>\n",
       "      <td>5.315770e+00</td>\n",
       "      <td>9.654217e+00</td>\n",
       "      <td>2.905913e+00</td>\n",
       "      <td>1.603482e+00</td>\n",
       "      <td>1.549891e+00</td>\n",
       "      <td>3.049744e+00</td>\n",
       "      <td>3.523531e+00</td>\n",
       "    </tr>\n",
       "  </tbody>\n",
       "</table>\n",
       "</div>"
      ],
      "text/plain": [
       "       Observation_ID     Elevation        Aspect         Slope  \\\n",
       "count   286048.000000  2.860480e+05  2.860480e+05  2.860480e+05   \n",
       "mean    143024.500000 -6.821059e-16  8.823162e-17  5.663516e-17   \n",
       "std      82575.089238  1.000002e+00  1.000002e+00  1.000002e+00   \n",
       "min          1.000000 -4.678301e+00 -1.413336e+00 -1.904938e+00   \n",
       "25%      71512.750000 -6.376309e-01 -8.551365e-01 -7.842469e-01   \n",
       "50%     143024.500000  9.474053e-02 -2.411166e-01 -8.381491e-02   \n",
       "75%     214536.250000  6.402309e-01  8.287667e-01  6.166171e-01   \n",
       "max     286048.000000  2.620159e+00  1.935863e+00  7.340764e+00   \n",
       "\n",
       "       Horizontal_Distance_To_Hydrology  Vertical_Distance_To_Hydrology  \\\n",
       "count                      2.860480e+05                    2.860480e+05   \n",
       "mean                       2.041847e-17                    5.633708e-17   \n",
       "std                        1.000002e+00                    1.000002e+00   \n",
       "min                       -1.322143e+00                   -3.805600e+00   \n",
       "25%                       -7.519574e-01                   -6.580200e-01   \n",
       "50%                       -1.817717e-01                   -2.754412e-01   \n",
       "75%                        5.309606e-01                    3.679867e-01   \n",
       "max                        5.315770e+00                    9.654217e+00   \n",
       "\n",
       "       Horizontal_Distance_To_Roadways  Hillshade_9am  Hillshade_Noon  \\\n",
       "count                     2.860480e+05   2.860480e+05    2.860480e+05   \n",
       "mean                      4.918317e-17   9.347285e-17   -1.400975e-17   \n",
       "std                       1.000002e+00   1.000002e+00    1.000002e+00   \n",
       "min                      -1.492490e+00  -8.574477e+00   -1.214145e+01   \n",
       "25%                      -7.984605e-01  -5.202654e-01   -5.523217e-01   \n",
       "50%                      -2.465743e-01   2.010073e-01    9.451305e-02   \n",
       "75%                       6.001045e-01   7.219265e-01    7.413478e-01   \n",
       "max                       2.905913e+00   1.603482e+00    1.549891e+00   \n",
       "\n",
       "       Hillshade_3pm  Horizontal_Distance_To_Fire_Points  \n",
       "count   2.860480e+05                        2.860480e+05  \n",
       "mean    1.968320e-16                       -5.762876e-17  \n",
       "std     1.000002e+00                        1.000002e+00  \n",
       "min    -3.908895e+00                       -1.513780e+00  \n",
       "25%    -6.213487e-01                       -6.956474e-01  \n",
       "50%    -1.863195e-02                       -2.272400e-01  \n",
       "75%     6.662735e-01                        3.451019e-01  \n",
       "max     3.049744e+00                        3.523531e+00  "
      ]
     },
     "metadata": {},
     "output_type": "display_data"
    }
   ],
   "source": [
    "from sklearn.preprocessing import StandardScaler\n",
    "\n",
    "for col in list(data):\n",
    "    print(col)\n",
    "    if col != \"Observation_ID\":\n",
    "        data[col] = StandardScaler().fit_transform(data[col].values.reshape(-1, 1))\n",
    "display(data.describe())"
   ]
  },
  {
   "cell_type": "code",
   "execution_count": 19,
   "metadata": {},
   "outputs": [
    {
     "name": "stdout",
     "output_type": "stream",
     "text": [
      "(286048, 10)\n"
     ]
    }
   ],
   "source": [
    "observations = data['Observation_ID']\n",
    "del data['Observation_ID']\n",
    "X_train = data.values\n",
    "print(X_train.shape)"
   ]
  },
  {
   "cell_type": "code",
   "execution_count": 9,
   "metadata": {
    "collapsed": true
   },
   "outputs": [],
   "source": [
    "input_layer = Input(shape=(10, ))\n",
    "encoder = Dense(9, activation=\"relu\", \n",
    "                activity_regularizer=regularizers.l1(10e-5))(input_layer)\n",
    "encoder = Dense(8, activation=\"relu\", \n",
    "                activity_regularizer=regularizers.l1(10e-5))(encoder)\n",
    "encoder = Dense(7, activation=\"relu\", \n",
    "                activity_regularizer=regularizers.l1(10e-5))(encoder)\n",
    "encoder = Dense(6, activation=\"relu\", \n",
    "                activity_regularizer=regularizers.l1(10e-5))(encoder)\n",
    "encoder = Dense(5, activation=\"relu\", \n",
    "                activity_regularizer=regularizers.l1(10e-5))(encoder)\n",
    "encoder = Dense(4, activation=\"relu\", \n",
    "                activity_regularizer=regularizers.l1(10e-5))(encoder)\n",
    "encoder = Dense(3, activation=\"relu\", \n",
    "                activity_regularizer=regularizers.l1(10e-5))(encoder)\n",
    "encoder = Dense(2, activation=\"relu\")(encoder)\n",
    "\n",
    "decoder = Dense(3, activation='relu')(encoder)\n",
    "decoder = Dense(4, activation='relu')(decoder)\n",
    "decoder = Dense(5, activation='relu')(decoder)\n",
    "decoder = Dense(6, activation='relu')(decoder)\n",
    "decoder = Dense(7, activation='relu')(decoder)\n",
    "decoder = Dense(8, activation='relu')(decoder)\n",
    "decoder = Dense(9, activation='relu')(decoder)\n",
    "decoder = Dense(10, activation='relu')(decoder)\n",
    "\n",
    "autoencoder = Model(inputs=input_layer, outputs=decoder)"
   ]
  },
  {
   "cell_type": "code",
   "execution_count": 10,
   "metadata": {
    "collapsed": true
   },
   "outputs": [],
   "source": [
    "from keras import optimizers\n",
    "adam = optimizers.Adam(lr=1e-3, beta_1=0.9, beta_2=0.999, epsilon=1e-08, decay=0.0)\n",
    "\n",
    "autoencoder.compile(optimizer=adam, loss='mean_squared_logarithmic_error')"
   ]
  },
  {
   "cell_type": "code",
   "execution_count": 7,
   "metadata": {},
   "outputs": [
    {
     "name": "stdout",
     "output_type": "stream",
     "text": [
      "Train on 228838 samples, validate on 57210 samples\n",
      "Epoch 1/10\n",
      "228838/228838 [==============================] - 34s - loss: 0.0720 - val_loss: 0.0863\n",
      "Epoch 2/10\n",
      "228838/228838 [==============================] - 36s - loss: 0.0601 - val_loss: 0.0860\n",
      "Epoch 3/10\n",
      "228838/228838 [==============================] - 36s - loss: 0.0570 - val_loss: 0.0842\n",
      "Epoch 4/10\n",
      "228838/228838 [==============================] - 37s - loss: 0.0555 - val_loss: 0.0869\n",
      "Epoch 5/10\n",
      "228838/228838 [==============================] - 36s - loss: 0.0547 - val_loss: 0.0876\n",
      "Epoch 6/10\n",
      "228838/228838 [==============================] - 36s - loss: 0.0540 - val_loss: 0.0865\n",
      "Epoch 7/10\n",
      "228838/228838 [==============================] - 34s - loss: 0.0535 - val_loss: 0.0866\n",
      "Epoch 8/10\n",
      "228838/228838 [==============================] - 36s - loss: 0.0532 - val_loss: 0.0881\n",
      "Epoch 9/10\n",
      "228838/228838 [==============================] - 36s - loss: 0.0529 - val_loss: 0.0853\n",
      "Epoch 10/10\n",
      "228838/228838 [==============================] - 35s - loss: 0.0528 - val_loss: 0.0874\n"
     ]
    }
   ],
   "source": [
    "nb_epoch = \n",
    "batch_size = 16\n",
    "checkpointer = ModelCheckpoint(filepath=\"model.h5\",\n",
    "                               verbose=0,\n",
    "                               save_best_only=True)\n",
    "tensorboard = TensorBoard(log_dir='./logs',\n",
    "                          histogram_freq=0,\n",
    "                          write_graph=True,\n",
    "                          write_images=True)\n",
    "history = autoencoder.fit(X_train, X_train,\n",
    "                    epochs=nb_epoch,\n",
    "                    batch_size=batch_size,\n",
    "                    shuffle=True,\n",
    "                    validation_split=0.2,\n",
    "                    verbose=1,\n",
    "                    callbacks=[checkpointer, tensorboard]).history"
   ]
  },
  {
   "cell_type": "code",
   "execution_count": 11,
   "metadata": {
    "collapsed": true
   },
   "outputs": [],
   "source": [
    "autoencoder = load_model('model.h5')"
   ]
  },
  {
   "cell_type": "code",
   "execution_count": 12,
   "metadata": {},
   "outputs": [
    {
     "data": {
      "text/html": [
       "<div>\n",
       "<style>\n",
       "    .dataframe thead tr:only-child th {\n",
       "        text-align: right;\n",
       "    }\n",
       "\n",
       "    .dataframe thead th {\n",
       "        text-align: left;\n",
       "    }\n",
       "\n",
       "    .dataframe tbody tr th {\n",
       "        vertical-align: top;\n",
       "    }\n",
       "</style>\n",
       "<table border=\"1\" class=\"dataframe\">\n",
       "  <thead>\n",
       "    <tr style=\"text-align: right;\">\n",
       "      <th></th>\n",
       "      <th>reconstruction_error</th>\n",
       "    </tr>\n",
       "  </thead>\n",
       "  <tbody>\n",
       "    <tr>\n",
       "      <th>count</th>\n",
       "      <td>286048.000000</td>\n",
       "    </tr>\n",
       "    <tr>\n",
       "      <th>mean</th>\n",
       "      <td>0.661437</td>\n",
       "    </tr>\n",
       "    <tr>\n",
       "      <th>std</th>\n",
       "      <td>0.571555</td>\n",
       "    </tr>\n",
       "    <tr>\n",
       "      <th>min</th>\n",
       "      <td>0.029719</td>\n",
       "    </tr>\n",
       "    <tr>\n",
       "      <th>25%</th>\n",
       "      <td>0.353927</td>\n",
       "    </tr>\n",
       "    <tr>\n",
       "      <th>50%</th>\n",
       "      <td>0.514877</td>\n",
       "    </tr>\n",
       "    <tr>\n",
       "      <th>75%</th>\n",
       "      <td>0.766631</td>\n",
       "    </tr>\n",
       "    <tr>\n",
       "      <th>max</th>\n",
       "      <td>19.695264</td>\n",
       "    </tr>\n",
       "  </tbody>\n",
       "</table>\n",
       "</div>"
      ],
      "text/plain": [
       "       reconstruction_error\n",
       "count         286048.000000\n",
       "mean               0.661437\n",
       "std                0.571555\n",
       "min                0.029719\n",
       "25%                0.353927\n",
       "50%                0.514877\n",
       "75%                0.766631\n",
       "max               19.695264"
      ]
     },
     "execution_count": 12,
     "metadata": {},
     "output_type": "execute_result"
    }
   ],
   "source": [
    "predictions = autoencoder.predict(X_train)\n",
    "mse = np.mean(np.power(X_train - predictions, 2), axis=1)\n",
    "error_df = pd.DataFrame({'reconstruction_error': mse})\n",
    "error_df.describe()"
   ]
  },
  {
   "cell_type": "code",
   "execution_count": 13,
   "metadata": {
    "collapsed": true
   },
   "outputs": [],
   "source": [
    "threshold = 1.5"
   ]
  },
  {
   "cell_type": "code",
   "execution_count": 14,
   "metadata": {
    "scrolled": true
   },
   "outputs": [
    {
     "data": {
      "image/png": "[encoded data removed]",
      "text/plain": [
       "<matplotlib.figure.Figure at 0x1fd5080e898>"
      ]
     },
     "metadata": {},
     "output_type": "display_data"
    }
   ],
   "source": [
    "fig, ax = plt.subplots()\n",
    "\n",
    "ax.plot(error_df.reconstruction_error, marker='o', ms=3.5, linestyle='')\n",
    "ax.hlines(threshold, ax.get_xlim()[0], ax.get_xlim()[1], colors=\"r\", zorder=100, label='Threshold')\n",
    "ax.legend()\n",
    "plt.title(\"Reconstruction error\")\n",
    "plt.ylabel(\"Reconstruction error\")\n",
    "plt.xlabel(\"Data point index\")\n",
    "plt.show();"
   ]
  },
  {
   "cell_type": "code",
   "execution_count": 15,
   "metadata": {},
   "outputs": [
    {
     "name": "stdout",
     "output_type": "stream",
     "text": [
      "17373\n",
      "286048\n"
     ]
    }
   ],
   "source": [
    "y_pred = [1 if e > threshold else 0 for e in error_df.reconstruction_error.values]\n",
    "print(sum(y_pred))\n",
    "print(len(y_pred))"
   ]
  },
  {
   "cell_type": "code",
   "execution_count": 20,
   "metadata": {},
   "outputs": [
    {
     "data": {
      "text/html": [
       "<div>\n",
       "<style>\n",
       "    .dataframe thead tr:only-child th {\n",
       "        text-align: right;\n",
       "    }\n",
       "\n",
       "    .dataframe thead th {\n",
       "        text-align: left;\n",
       "    }\n",
       "\n",
       "    .dataframe tbody tr th {\n",
       "        vertical-align: top;\n",
       "    }\n",
       "</style>\n",
       "<table border=\"1\" class=\"dataframe\">\n",
       "  <thead>\n",
       "    <tr style=\"text-align: right;\">\n",
       "      <th></th>\n",
       "      <th>Observation_ID</th>\n",
       "      <th>prediction</th>\n",
       "    </tr>\n",
       "  </thead>\n",
       "  <tbody>\n",
       "    <tr>\n",
       "      <th>count</th>\n",
       "      <td>286048.000000</td>\n",
       "      <td>286048.000000</td>\n",
       "    </tr>\n",
       "    <tr>\n",
       "      <th>mean</th>\n",
       "      <td>143024.500000</td>\n",
       "      <td>0.060735</td>\n",
       "    </tr>\n",
       "    <tr>\n",
       "      <th>std</th>\n",
       "      <td>82575.089238</td>\n",
       "      <td>0.238843</td>\n",
       "    </tr>\n",
       "    <tr>\n",
       "      <th>min</th>\n",
       "      <td>1.000000</td>\n",
       "      <td>0.000000</td>\n",
       "    </tr>\n",
       "    <tr>\n",
       "      <th>25%</th>\n",
       "      <td>71512.750000</td>\n",
       "      <td>0.000000</td>\n",
       "    </tr>\n",
       "    <tr>\n",
       "      <th>50%</th>\n",
       "      <td>143024.500000</td>\n",
       "      <td>0.000000</td>\n",
       "    </tr>\n",
       "    <tr>\n",
       "      <th>75%</th>\n",
       "      <td>214536.250000</td>\n",
       "      <td>0.000000</td>\n",
       "    </tr>\n",
       "    <tr>\n",
       "      <th>max</th>\n",
       "      <td>286048.000000</td>\n",
       "      <td>1.000000</td>\n",
       "    </tr>\n",
       "  </tbody>\n",
       "</table>\n",
       "</div>"
      ],
      "text/plain": [
       "       Observation_ID     prediction\n",
       "count   286048.000000  286048.000000\n",
       "mean    143024.500000       0.060735\n",
       "std      82575.089238       0.238843\n",
       "min          1.000000       0.000000\n",
       "25%      71512.750000       0.000000\n",
       "50%     143024.500000       0.000000\n",
       "75%     214536.250000       0.000000\n",
       "max     286048.000000       1.000000"
      ]
     },
     "metadata": {},
     "output_type": "display_data"
    },
    {
     "name": "stdout",
     "output_type": "stream",
     "text": [
      "17373\n"
     ]
    }
   ],
   "source": [
    "data['prediction'] = pd.Series(y_pred)\n",
    "data['Observation_ID'] = observations\n",
    "inital_predictions = data[['Observation_ID', 'prediction']]\n",
    "display(inital_predictions.describe())\n",
    "print(sum(data['prediction']))\n",
    "inital_predictions.to_csv('data_with_prediction_autoencoder.csv')"
   ]
  },
  {
   "cell_type": "code",
   "execution_count": null,
   "metadata": {
    "collapsed": true
   },
   "outputs": [],
   "source": []
  }
 ],
 "metadata": {
  "kernelspec": {
   "display_name": "Python 2",
   "language": "python",
   "name": "python2"
  },
  "language_info": {
   "codemirror_mode": {
    "name": "ipython",
    "version": 2
   },
   "file_extension": ".py",
   "mimetype": "text/x-python",
   "name": "python",
   "nbconvert_exporter": "python",
   "pygments_lexer": "ipython2",
   "version": "2.7.14"
  }
 },
 "nbformat": 4,
 "nbformat_minor": 2
}
