{
 "cells": [
  {
   "cell_type": "markdown",
   "metadata": {},
   "source": [
    "# Autoencoder"
   ]
  },
  {
   "cell_type": "code",
   "execution_count": 1,
   "metadata": {},
   "outputs": [
    {
     "name": "stdout",
     "output_type": "stream",
     "text": [
      "Data shape: (286048, 12)\n"
     ]
    }
   ],
   "source": [
    "import numpy as np\n",
    "import pandas as pd\n",
    "from IPython.display import display\n",
    "\n",
    "%matplotlib inline\n",
    "\n",
    "data = pd.read_csv(\"data_without_labels.csv\")\n",
    "print(\"Data shape:\", data.shape)"
   ]
  },
  {
   "cell_type": "code",
   "execution_count": 2,
   "metadata": {
    "scrolled": true
   },
   "outputs": [
    {
     "data": {
      "text/html": [
       "<div>\n",
       "<style>\n",
       "    .dataframe thead tr:only-child th {\n",
       "        text-align: right;\n",
       "    }\n",
       "\n",
       "    .dataframe thead th {\n",
       "        text-align: left;\n",
       "    }\n",
       "\n",
       "    .dataframe tbody tr th {\n",
       "        vertical-align: top;\n",
       "    }\n",
       "</style>\n",
       "<table border=\"1\" class=\"dataframe\">\n",
       "  <thead>\n",
       "    <tr style=\"text-align: right;\">\n",
       "      <th></th>\n",
       "      <th>Observation_ID</th>\n",
       "      <th>Elevation</th>\n",
       "      <th>Aspect</th>\n",
       "      <th>Slope</th>\n",
       "      <th>Horizontal_Distance_To_Hydrology</th>\n",
       "      <th>Vertical_Distance_To_Hydrology</th>\n",
       "      <th>Horizontal_Distance_To_Roadways</th>\n",
       "      <th>Hillshade_9am</th>\n",
       "      <th>Hillshade_Noon</th>\n",
       "      <th>Hillshade_3pm</th>\n",
       "      <th>Horizontal_Distance_To_Fire_Points</th>\n",
       "      <th>Labels</th>\n",
       "    </tr>\n",
       "  </thead>\n",
       "  <tbody>\n",
       "    <tr>\n",
       "      <th>count</th>\n",
       "      <td>286048.000000</td>\n",
       "      <td>286048.000000</td>\n",
       "      <td>286048.000000</td>\n",
       "      <td>286048.000000</td>\n",
       "      <td>286048.000000</td>\n",
       "      <td>286048.000000</td>\n",
       "      <td>286048.000000</td>\n",
       "      <td>286048.000000</td>\n",
       "      <td>286048.000000</td>\n",
       "      <td>286048.000000</td>\n",
       "      <td>286048.000000</td>\n",
       "      <td>286048.000000</td>\n",
       "    </tr>\n",
       "    <tr>\n",
       "      <th>mean</th>\n",
       "      <td>143024.500000</td>\n",
       "      <td>2914.242610</td>\n",
       "      <td>151.917224</td>\n",
       "      <td>13.598309</td>\n",
       "      <td>278.255251</td>\n",
       "      <td>45.839107</td>\n",
       "      <td>2414.978643</td>\n",
       "      <td>213.983685</td>\n",
       "      <td>225.246605</td>\n",
       "      <td>142.680092</td>\n",
       "      <td>2155.583857</td>\n",
       "      <td>0.009603</td>\n",
       "    </tr>\n",
       "    <tr>\n",
       "      <th>std</th>\n",
       "      <td>82575.089238</td>\n",
       "      <td>197.987324</td>\n",
       "      <td>107.488551</td>\n",
       "      <td>7.138464</td>\n",
       "      <td>210.458091</td>\n",
       "      <td>57.504597</td>\n",
       "      <td>1618.090012</td>\n",
       "      <td>24.955931</td>\n",
       "      <td>18.551910</td>\n",
       "      <td>36.501454</td>\n",
       "      <td>1423.976520</td>\n",
       "      <td>0.097525</td>\n",
       "    </tr>\n",
       "    <tr>\n",
       "      <th>min</th>\n",
       "      <td>1.000000</td>\n",
       "      <td>1988.000000</td>\n",
       "      <td>0.000000</td>\n",
       "      <td>0.000000</td>\n",
       "      <td>0.000000</td>\n",
       "      <td>-173.000000</td>\n",
       "      <td>0.000000</td>\n",
       "      <td>0.000000</td>\n",
       "      <td>0.000000</td>\n",
       "      <td>0.000000</td>\n",
       "      <td>0.000000</td>\n",
       "      <td>0.000000</td>\n",
       "    </tr>\n",
       "    <tr>\n",
       "      <th>25%</th>\n",
       "      <td>71512.750000</td>\n",
       "      <td>2788.000000</td>\n",
       "      <td>60.000000</td>\n",
       "      <td>8.000000</td>\n",
       "      <td>120.000000</td>\n",
       "      <td>8.000000</td>\n",
       "      <td>1123.000000</td>\n",
       "      <td>201.000000</td>\n",
       "      <td>215.000000</td>\n",
       "      <td>120.000000</td>\n",
       "      <td>1165.000000</td>\n",
       "      <td>0.000000</td>\n",
       "    </tr>\n",
       "    <tr>\n",
       "      <th>50%</th>\n",
       "      <td>143024.500000</td>\n",
       "      <td>2933.000000</td>\n",
       "      <td>126.000000</td>\n",
       "      <td>13.000000</td>\n",
       "      <td>240.000000</td>\n",
       "      <td>30.000000</td>\n",
       "      <td>2016.000000</td>\n",
       "      <td>219.000000</td>\n",
       "      <td>227.000000</td>\n",
       "      <td>142.000000</td>\n",
       "      <td>1832.000000</td>\n",
       "      <td>0.000000</td>\n",
       "    </tr>\n",
       "    <tr>\n",
       "      <th>75%</th>\n",
       "      <td>214536.250000</td>\n",
       "      <td>3041.000000</td>\n",
       "      <td>241.000000</td>\n",
       "      <td>18.000000</td>\n",
       "      <td>390.000000</td>\n",
       "      <td>67.000000</td>\n",
       "      <td>3386.000000</td>\n",
       "      <td>232.000000</td>\n",
       "      <td>239.000000</td>\n",
       "      <td>167.000000</td>\n",
       "      <td>2647.000000</td>\n",
       "      <td>0.000000</td>\n",
       "    </tr>\n",
       "    <tr>\n",
       "      <th>max</th>\n",
       "      <td>286048.000000</td>\n",
       "      <td>3433.000000</td>\n",
       "      <td>360.000000</td>\n",
       "      <td>66.000000</td>\n",
       "      <td>1397.000000</td>\n",
       "      <td>601.000000</td>\n",
       "      <td>7117.000000</td>\n",
       "      <td>254.000000</td>\n",
       "      <td>254.000000</td>\n",
       "      <td>254.000000</td>\n",
       "      <td>7173.000000</td>\n",
       "      <td>1.000000</td>\n",
       "    </tr>\n",
       "  </tbody>\n",
       "</table>\n",
       "</div>"
      ],
      "text/plain": [
       "       Observation_ID      Elevation         Aspect          Slope  \\\n",
       "count   286048.000000  286048.000000  286048.000000  286048.000000   \n",
       "mean    143024.500000    2914.242610     151.917224      13.598309   \n",
       "std      82575.089238     197.987324     107.488551       7.138464   \n",
       "min          1.000000    1988.000000       0.000000       0.000000   \n",
       "25%      71512.750000    2788.000000      60.000000       8.000000   \n",
       "50%     143024.500000    2933.000000     126.000000      13.000000   \n",
       "75%     214536.250000    3041.000000     241.000000      18.000000   \n",
       "max     286048.000000    3433.000000     360.000000      66.000000   \n",
       "\n",
       "       Horizontal_Distance_To_Hydrology  Vertical_Distance_To_Hydrology  \\\n",
       "count                     286048.000000                   286048.000000   \n",
       "mean                         278.255251                       45.839107   \n",
       "std                          210.458091                       57.504597   \n",
       "min                            0.000000                     -173.000000   \n",
       "25%                          120.000000                        8.000000   \n",
       "50%                          240.000000                       30.000000   \n",
       "75%                          390.000000                       67.000000   \n",
       "max                         1397.000000                      601.000000   \n",
       "\n",
       "       Horizontal_Distance_To_Roadways  Hillshade_9am  Hillshade_Noon  \\\n",
       "count                    286048.000000  286048.000000   286048.000000   \n",
       "mean                       2414.978643     213.983685      225.246605   \n",
       "std                        1618.090012      24.955931       18.551910   \n",
       "min                           0.000000       0.000000        0.000000   \n",
       "25%                        1123.000000     201.000000      215.000000   \n",
       "50%                        2016.000000     219.000000      227.000000   \n",
       "75%                        3386.000000     232.000000      239.000000   \n",
       "max                        7117.000000     254.000000      254.000000   \n",
       "\n",
       "       Hillshade_3pm  Horizontal_Distance_To_Fire_Points         Labels  \n",
       "count  286048.000000                       286048.000000  286048.000000  \n",
       "mean      142.680092                         2155.583857       0.009603  \n",
       "std        36.501454                         1423.976520       0.097525  \n",
       "min         0.000000                            0.000000       0.000000  \n",
       "25%       120.000000                         1165.000000       0.000000  \n",
       "50%       142.000000                         1832.000000       0.000000  \n",
       "75%       167.000000                         2647.000000       0.000000  \n",
       "max       254.000000                         7173.000000       1.000000  "
      ]
     },
     "metadata": {},
     "output_type": "display_data"
    }
   ],
   "source": [
    "display(data.describe())"
   ]
  },
  {
   "cell_type": "code",
   "execution_count": 3,
   "metadata": {},
   "outputs": [
    {
     "data": {
      "text/html": [
       "<div>\n",
       "<style>\n",
       "    .dataframe thead tr:only-child th {\n",
       "        text-align: right;\n",
       "    }\n",
       "\n",
       "    .dataframe thead th {\n",
       "        text-align: left;\n",
       "    }\n",
       "\n",
       "    .dataframe tbody tr th {\n",
       "        vertical-align: top;\n",
       "    }\n",
       "</style>\n",
       "<table border=\"1\" class=\"dataframe\">\n",
       "  <thead>\n",
       "    <tr style=\"text-align: right;\">\n",
       "      <th></th>\n",
       "      <th>Elevation</th>\n",
       "      <th>Aspect</th>\n",
       "      <th>Slope</th>\n",
       "      <th>Horizontal_Distance_To_Hydrology</th>\n",
       "      <th>Vertical_Distance_To_Hydrology</th>\n",
       "      <th>Horizontal_Distance_To_Roadways</th>\n",
       "      <th>Hillshade_9am</th>\n",
       "      <th>Hillshade_Noon</th>\n",
       "      <th>Hillshade_3pm</th>\n",
       "      <th>Horizontal_Distance_To_Fire_Points</th>\n",
       "    </tr>\n",
       "  </thead>\n",
       "  <tbody>\n",
       "    <tr>\n",
       "      <th>count</th>\n",
       "      <td>286048.000000</td>\n",
       "      <td>286048.000000</td>\n",
       "      <td>286048.000000</td>\n",
       "      <td>286048.000000</td>\n",
       "      <td>286048.000000</td>\n",
       "      <td>286048.000000</td>\n",
       "      <td>286048.000000</td>\n",
       "      <td>286048.000000</td>\n",
       "      <td>286048.000000</td>\n",
       "      <td>286048.000000</td>\n",
       "    </tr>\n",
       "    <tr>\n",
       "      <th>mean</th>\n",
       "      <td>2914.242610</td>\n",
       "      <td>151.917224</td>\n",
       "      <td>13.598309</td>\n",
       "      <td>278.255251</td>\n",
       "      <td>45.839107</td>\n",
       "      <td>2414.978643</td>\n",
       "      <td>213.983685</td>\n",
       "      <td>225.246605</td>\n",
       "      <td>142.680092</td>\n",
       "      <td>2155.583857</td>\n",
       "    </tr>\n",
       "    <tr>\n",
       "      <th>std</th>\n",
       "      <td>197.987324</td>\n",
       "      <td>107.488551</td>\n",
       "      <td>7.138464</td>\n",
       "      <td>210.458091</td>\n",
       "      <td>57.504597</td>\n",
       "      <td>1618.090012</td>\n",
       "      <td>24.955931</td>\n",
       "      <td>18.551910</td>\n",
       "      <td>36.501454</td>\n",
       "      <td>1423.976520</td>\n",
       "    </tr>\n",
       "    <tr>\n",
       "      <th>min</th>\n",
       "      <td>1988.000000</td>\n",
       "      <td>0.000000</td>\n",
       "      <td>0.000000</td>\n",
       "      <td>0.000000</td>\n",
       "      <td>-173.000000</td>\n",
       "      <td>0.000000</td>\n",
       "      <td>0.000000</td>\n",
       "      <td>0.000000</td>\n",
       "      <td>0.000000</td>\n",
       "      <td>0.000000</td>\n",
       "    </tr>\n",
       "    <tr>\n",
       "      <th>25%</th>\n",
       "      <td>2788.000000</td>\n",
       "      <td>60.000000</td>\n",
       "      <td>8.000000</td>\n",
       "      <td>120.000000</td>\n",
       "      <td>8.000000</td>\n",
       "      <td>1123.000000</td>\n",
       "      <td>201.000000</td>\n",
       "      <td>215.000000</td>\n",
       "      <td>120.000000</td>\n",
       "      <td>1165.000000</td>\n",
       "    </tr>\n",
       "    <tr>\n",
       "      <th>50%</th>\n",
       "      <td>2933.000000</td>\n",
       "      <td>126.000000</td>\n",
       "      <td>13.000000</td>\n",
       "      <td>240.000000</td>\n",
       "      <td>30.000000</td>\n",
       "      <td>2016.000000</td>\n",
       "      <td>219.000000</td>\n",
       "      <td>227.000000</td>\n",
       "      <td>142.000000</td>\n",
       "      <td>1832.000000</td>\n",
       "    </tr>\n",
       "    <tr>\n",
       "      <th>75%</th>\n",
       "      <td>3041.000000</td>\n",
       "      <td>241.000000</td>\n",
       "      <td>18.000000</td>\n",
       "      <td>390.000000</td>\n",
       "      <td>67.000000</td>\n",
       "      <td>3386.000000</td>\n",
       "      <td>232.000000</td>\n",
       "      <td>239.000000</td>\n",
       "      <td>167.000000</td>\n",
       "      <td>2647.000000</td>\n",
       "    </tr>\n",
       "    <tr>\n",
       "      <th>max</th>\n",
       "      <td>3433.000000</td>\n",
       "      <td>360.000000</td>\n",
       "      <td>66.000000</td>\n",
       "      <td>1397.000000</td>\n",
       "      <td>601.000000</td>\n",
       "      <td>7117.000000</td>\n",
       "      <td>254.000000</td>\n",
       "      <td>254.000000</td>\n",
       "      <td>254.000000</td>\n",
       "      <td>7173.000000</td>\n",
       "    </tr>\n",
       "  </tbody>\n",
       "</table>\n",
       "</div>"
      ],
      "text/plain": [
       "           Elevation         Aspect          Slope  \\\n",
       "count  286048.000000  286048.000000  286048.000000   \n",
       "mean     2914.242610     151.917224      13.598309   \n",
       "std       197.987324     107.488551       7.138464   \n",
       "min      1988.000000       0.000000       0.000000   \n",
       "25%      2788.000000      60.000000       8.000000   \n",
       "50%      2933.000000     126.000000      13.000000   \n",
       "75%      3041.000000     241.000000      18.000000   \n",
       "max      3433.000000     360.000000      66.000000   \n",
       "\n",
       "       Horizontal_Distance_To_Hydrology  Vertical_Distance_To_Hydrology  \\\n",
       "count                     286048.000000                   286048.000000   \n",
       "mean                         278.255251                       45.839107   \n",
       "std                          210.458091                       57.504597   \n",
       "min                            0.000000                     -173.000000   \n",
       "25%                          120.000000                        8.000000   \n",
       "50%                          240.000000                       30.000000   \n",
       "75%                          390.000000                       67.000000   \n",
       "max                         1397.000000                      601.000000   \n",
       "\n",
       "       Horizontal_Distance_To_Roadways  Hillshade_9am  Hillshade_Noon  \\\n",
       "count                    286048.000000  286048.000000   286048.000000   \n",
       "mean                       2414.978643     213.983685      225.246605   \n",
       "std                        1618.090012      24.955931       18.551910   \n",
       "min                           0.000000       0.000000        0.000000   \n",
       "25%                        1123.000000     201.000000      215.000000   \n",
       "50%                        2016.000000     219.000000      227.000000   \n",
       "75%                        3386.000000     232.000000      239.000000   \n",
       "max                        7117.000000     254.000000      254.000000   \n",
       "\n",
       "       Hillshade_3pm  Horizontal_Distance_To_Fire_Points  \n",
       "count  286048.000000                       286048.000000  \n",
       "mean      142.680092                         2155.583857  \n",
       "std        36.501454                         1423.976520  \n",
       "min         0.000000                            0.000000  \n",
       "25%       120.000000                         1165.000000  \n",
       "50%       142.000000                         1832.000000  \n",
       "75%       167.000000                         2647.000000  \n",
       "max       254.000000                         7173.000000  "
      ]
     },
     "metadata": {},
     "output_type": "display_data"
    }
   ],
   "source": [
    "del data['Observation_ID']\n",
    "del data['Labels']\n",
    "\n",
    "display(data.describe())"
   ]
  },
  {
   "cell_type": "code",
   "execution_count": 4,
   "metadata": {},
   "outputs": [
    {
     "name": "stderr",
     "output_type": "stream",
     "text": [
      "Using TensorFlow backend.\n"
     ]
    }
   ],
   "source": [
    "from keras.layers import Input, Dense\n",
    "from keras.models import Model"
   ]
  },
  {
   "cell_type": "code",
   "execution_count": 5,
   "metadata": {},
   "outputs": [],
   "source": [
    "from keras import regularizers\n",
    "\n",
    "input_pt = Input(shape=(10,))\n",
    "encoded = Dense(10, activation='relu')(input_pt)\n",
    "encoded = Dense(5, activation='relu')(encoded)\n",
    "encoded = Dense(2, activation='relu')(encoded)\n",
    "\n",
    "decoded = Dense(5, activation='relu')(encoded)\n",
    "decoded = Dense(10, activation='sigmoid')(decoded)\n",
    "\n",
    "autoencoder = Model(input_pt, decoded)"
   ]
  },
  {
   "cell_type": "code",
   "execution_count": 6,
   "metadata": {
    "collapsed": true
   },
   "outputs": [],
   "source": [
    "encoder = Model(input_pt, encoded)"
   ]
  },
  {
   "cell_type": "code",
   "execution_count": 7,
   "metadata": {
    "collapsed": true
   },
   "outputs": [],
   "source": [
    "from keras import optimizers\n",
    "adam = optimizers.Adam(lr=1e-4, beta_1=0.9, beta_2=0.999, epsilon=1e-08, decay=0.0)\n",
    "\n",
    "autoencoder.compile(optimizer=adam, loss='mean_squared_error')"
   ]
  },
  {
   "cell_type": "code",
   "execution_count": 8,
   "metadata": {
    "collapsed": true
   },
   "outputs": [],
   "source": [
    "data = (data-data.min())/(data.max()-data.min())\n",
    "data = (data - data.mean())/data.std()"
   ]
  },
  {
   "cell_type": "code",
   "execution_count": 9,
   "metadata": {},
   "outputs": [],
   "source": [
    "np_data = np.array(data)"
   ]
  },
  {
   "cell_type": "code",
   "execution_count": 10,
   "metadata": {},
   "outputs": [
    {
     "name": "stdout",
     "output_type": "stream",
     "text": [
      "Train on 228838 samples, validate on 57210 samples\n",
      "Epoch 1/10\n",
      "228838/228838 [==============================] - 3s - loss: 1.1112 - val_loss: 1.0862\n",
      "Epoch 2/10\n",
      "228838/228838 [==============================] - 2s - loss: 0.9353 - val_loss: 1.0218\n",
      "Epoch 3/10\n",
      "228838/228838 [==============================] - 2s - loss: 0.9016 - val_loss: 1.0096\n",
      "Epoch 4/10\n",
      "228838/228838 [==============================] - 2s - loss: 0.8846 - val_loss: 1.0045\n",
      "Epoch 5/10\n",
      "228838/228838 [==============================] - 2s - loss: 0.8697 - val_loss: 0.9998\n",
      "Epoch 6/10\n",
      "228838/228838 [==============================] - 2s - loss: 0.8568 - val_loss: 0.9940\n",
      "Epoch 7/10\n",
      "228838/228838 [==============================] - 2s - loss: 0.8462 - val_loss: 0.9861\n",
      "Epoch 8/10\n",
      "228838/228838 [==============================] - 3s - loss: 0.8380 - val_loss: 0.9775\n",
      "Epoch 9/10\n",
      "228838/228838 [==============================] - 4s - loss: 0.8314 - val_loss: 0.9690\n",
      "Epoch 10/10\n",
      "228838/228838 [==============================] - 3s - loss: 0.8258 - val_loss: 0.9604\n"
     ]
    }
   ],
   "source": [
    "autoencoder.fit(np_data, np_data,\n",
    "                epochs=10,\n",
    "                batch_size=64,\n",
    "                shuffle=True,\n",
    "                validation_split=0.2);"
   ]
  },
  {
   "cell_type": "code",
   "execution_count": 11,
   "metadata": {
    "collapsed": true
   },
   "outputs": [],
   "source": [
    "raw_data = pd.read_csv(\"data_without_labels.csv\")"
   ]
  },
  {
   "cell_type": "code",
   "execution_count": 12,
   "metadata": {
    "collapsed": true
   },
   "outputs": [],
   "source": [
    "data_1 = raw_data[raw_data['Labels'] == 1]\n",
    "data_0 = raw_data[raw_data['Labels'] == 0]\n",
    "del data_1['Observation_ID']\n",
    "del data_1['Labels']\n",
    "del data_0['Observation_ID']\n",
    "del data_0['Labels']\n",
    "np_data_1 = np.array(data_1)\n",
    "np_data_0 = np.array(data_0)"
   ]
  },
  {
   "cell_type": "code",
   "execution_count": 13,
   "metadata": {
    "collapsed": true
   },
   "outputs": [],
   "source": [
    "del raw_data['Observation_ID']\n",
    "del raw_data['Labels']"
   ]
  },
  {
   "cell_type": "code",
   "execution_count": 14,
   "metadata": {},
   "outputs": [
    {
     "name": "stdout",
     "output_type": "stream",
     "text": [
      "length of encoded_1: 2747\n",
      "length of encoded_0: 283301\n",
      "length of encoded_raw:  286048\n"
     ]
    }
   ],
   "source": [
    "encoded_raw = encoder.predict(np.array(raw_data))\n",
    "encoded_1 = encoder.predict(np_data_1)\n",
    "encoded_0 = encoder.predict(np_data_0)\n",
    "print(\"length of encoded_1:\", len(encoded_1))\n",
    "print(\"length of encoded_0:\", len(encoded_0))\n",
    "print(\"length of encoded_raw: \", len(encoded_raw))"
   ]
  },
  {
   "cell_type": "code",
   "execution_count": 15,
   "metadata": {},
   "outputs": [],
   "source": [
    "encoded_1 = pd.DataFrame(encoded_1)"
   ]
  },
  {
   "cell_type": "code",
   "execution_count": 16,
   "metadata": {},
   "outputs": [
    {
     "data": {
      "text/html": [
       "<div>\n",
       "<style>\n",
       "    .dataframe thead tr:only-child th {\n",
       "        text-align: right;\n",
       "    }\n",
       "\n",
       "    .dataframe thead th {\n",
       "        text-align: left;\n",
       "    }\n",
       "\n",
       "    .dataframe tbody tr th {\n",
       "        vertical-align: top;\n",
       "    }\n",
       "</style>\n",
       "<table border=\"1\" class=\"dataframe\">\n",
       "  <thead>\n",
       "    <tr style=\"text-align: right;\">\n",
       "      <th></th>\n",
       "      <th>0</th>\n",
       "      <th>1</th>\n",
       "    </tr>\n",
       "  </thead>\n",
       "  <tbody>\n",
       "    <tr>\n",
       "      <th>count</th>\n",
       "      <td>2747.0</td>\n",
       "      <td>2747.0</td>\n",
       "    </tr>\n",
       "    <tr>\n",
       "      <th>mean</th>\n",
       "      <td>0.0</td>\n",
       "      <td>0.0</td>\n",
       "    </tr>\n",
       "    <tr>\n",
       "      <th>std</th>\n",
       "      <td>0.0</td>\n",
       "      <td>0.0</td>\n",
       "    </tr>\n",
       "    <tr>\n",
       "      <th>min</th>\n",
       "      <td>0.0</td>\n",
       "      <td>0.0</td>\n",
       "    </tr>\n",
       "    <tr>\n",
       "      <th>25%</th>\n",
       "      <td>0.0</td>\n",
       "      <td>0.0</td>\n",
       "    </tr>\n",
       "    <tr>\n",
       "      <th>50%</th>\n",
       "      <td>0.0</td>\n",
       "      <td>0.0</td>\n",
       "    </tr>\n",
       "    <tr>\n",
       "      <th>75%</th>\n",
       "      <td>0.0</td>\n",
       "      <td>0.0</td>\n",
       "    </tr>\n",
       "    <tr>\n",
       "      <th>max</th>\n",
       "      <td>0.0</td>\n",
       "      <td>0.0</td>\n",
       "    </tr>\n",
       "  </tbody>\n",
       "</table>\n",
       "</div>"
      ],
      "text/plain": [
       "            0       1\n",
       "count  2747.0  2747.0\n",
       "mean      0.0     0.0\n",
       "std       0.0     0.0\n",
       "min       0.0     0.0\n",
       "25%       0.0     0.0\n",
       "50%       0.0     0.0\n",
       "75%       0.0     0.0\n",
       "max       0.0     0.0"
      ]
     },
     "metadata": {},
     "output_type": "display_data"
    }
   ],
   "source": [
    "display(encoded_1.describe())"
   ]
  },
  {
   "cell_type": "code",
   "execution_count": 17,
   "metadata": {},
   "outputs": [],
   "source": [
    "encoded_0 = pd.DataFrame(encoded_0)"
   ]
  },
  {
   "cell_type": "code",
   "execution_count": 18,
   "metadata": {},
   "outputs": [
    {
     "data": {
      "text/html": [
       "<div>\n",
       "<style>\n",
       "    .dataframe thead tr:only-child th {\n",
       "        text-align: right;\n",
       "    }\n",
       "\n",
       "    .dataframe thead th {\n",
       "        text-align: left;\n",
       "    }\n",
       "\n",
       "    .dataframe tbody tr th {\n",
       "        vertical-align: top;\n",
       "    }\n",
       "</style>\n",
       "<table border=\"1\" class=\"dataframe\">\n",
       "  <thead>\n",
       "    <tr style=\"text-align: right;\">\n",
       "      <th></th>\n",
       "      <th>0</th>\n",
       "      <th>1</th>\n",
       "    </tr>\n",
       "  </thead>\n",
       "  <tbody>\n",
       "    <tr>\n",
       "      <th>count</th>\n",
       "      <td>283301.000000</td>\n",
       "      <td>283301.0</td>\n",
       "    </tr>\n",
       "    <tr>\n",
       "      <th>mean</th>\n",
       "      <td>16.638023</td>\n",
       "      <td>0.0</td>\n",
       "    </tr>\n",
       "    <tr>\n",
       "      <th>std</th>\n",
       "      <td>41.084740</td>\n",
       "      <td>0.0</td>\n",
       "    </tr>\n",
       "    <tr>\n",
       "      <th>min</th>\n",
       "      <td>0.000000</td>\n",
       "      <td>0.0</td>\n",
       "    </tr>\n",
       "    <tr>\n",
       "      <th>25%</th>\n",
       "      <td>0.000000</td>\n",
       "      <td>0.0</td>\n",
       "    </tr>\n",
       "    <tr>\n",
       "      <th>50%</th>\n",
       "      <td>0.000000</td>\n",
       "      <td>0.0</td>\n",
       "    </tr>\n",
       "    <tr>\n",
       "      <th>75%</th>\n",
       "      <td>0.000000</td>\n",
       "      <td>0.0</td>\n",
       "    </tr>\n",
       "    <tr>\n",
       "      <th>max</th>\n",
       "      <td>250.669617</td>\n",
       "      <td>0.0</td>\n",
       "    </tr>\n",
       "  </tbody>\n",
       "</table>\n",
       "</div>"
      ],
      "text/plain": [
       "                   0         1\n",
       "count  283301.000000  283301.0\n",
       "mean       16.638023       0.0\n",
       "std        41.084740       0.0\n",
       "min         0.000000       0.0\n",
       "25%         0.000000       0.0\n",
       "50%         0.000000       0.0\n",
       "75%         0.000000       0.0\n",
       "max       250.669617       0.0"
      ]
     },
     "metadata": {},
     "output_type": "display_data"
    }
   ],
   "source": [
    "display(encoded_0.describe())"
   ]
  },
  {
   "cell_type": "code",
   "execution_count": 19,
   "metadata": {
    "collapsed": true
   },
   "outputs": [],
   "source": [
    "encoded_raw = pd.DataFrame(encoded_raw)"
   ]
  },
  {
   "cell_type": "code",
   "execution_count": 20,
   "metadata": {},
   "outputs": [
    {
     "data": {
      "text/html": [
       "<div>\n",
       "<style>\n",
       "    .dataframe thead tr:only-child th {\n",
       "        text-align: right;\n",
       "    }\n",
       "\n",
       "    .dataframe thead th {\n",
       "        text-align: left;\n",
       "    }\n",
       "\n",
       "    .dataframe tbody tr th {\n",
       "        vertical-align: top;\n",
       "    }\n",
       "</style>\n",
       "<table border=\"1\" class=\"dataframe\">\n",
       "  <thead>\n",
       "    <tr style=\"text-align: right;\">\n",
       "      <th></th>\n",
       "      <th>0</th>\n",
       "      <th>1</th>\n",
       "    </tr>\n",
       "  </thead>\n",
       "  <tbody>\n",
       "    <tr>\n",
       "      <th>count</th>\n",
       "      <td>286048.000000</td>\n",
       "      <td>286048.0</td>\n",
       "    </tr>\n",
       "    <tr>\n",
       "      <th>mean</th>\n",
       "      <td>16.478241</td>\n",
       "      <td>0.0</td>\n",
       "    </tr>\n",
       "    <tr>\n",
       "      <th>std</th>\n",
       "      <td>40.919174</td>\n",
       "      <td>0.0</td>\n",
       "    </tr>\n",
       "    <tr>\n",
       "      <th>min</th>\n",
       "      <td>0.000000</td>\n",
       "      <td>0.0</td>\n",
       "    </tr>\n",
       "    <tr>\n",
       "      <th>25%</th>\n",
       "      <td>0.000000</td>\n",
       "      <td>0.0</td>\n",
       "    </tr>\n",
       "    <tr>\n",
       "      <th>50%</th>\n",
       "      <td>0.000000</td>\n",
       "      <td>0.0</td>\n",
       "    </tr>\n",
       "    <tr>\n",
       "      <th>75%</th>\n",
       "      <td>0.000000</td>\n",
       "      <td>0.0</td>\n",
       "    </tr>\n",
       "    <tr>\n",
       "      <th>max</th>\n",
       "      <td>250.669617</td>\n",
       "      <td>0.0</td>\n",
       "    </tr>\n",
       "  </tbody>\n",
       "</table>\n",
       "</div>"
      ],
      "text/plain": [
       "                   0         1\n",
       "count  286048.000000  286048.0\n",
       "mean       16.478241       0.0\n",
       "std        40.919174       0.0\n",
       "min         0.000000       0.0\n",
       "25%         0.000000       0.0\n",
       "50%         0.000000       0.0\n",
       "75%         0.000000       0.0\n",
       "max       250.669617       0.0"
      ]
     },
     "metadata": {},
     "output_type": "display_data"
    }
   ],
   "source": [
    "display(encoded_raw.describe())"
   ]
  },
  {
   "cell_type": "code",
   "execution_count": 21,
   "metadata": {},
   "outputs": [
    {
     "data": {
      "image/png": "[encoded data removed]",
      "text/plain": [
       "<matplotlib.figure.Figure at 0x1ca48882a20>"
      ]
     },
     "metadata": {},
     "output_type": "display_data"
    }
   ],
   "source": [
    "pd.DataFrame.hist(encoded_raw, bins=1000);"
   ]
  },
  {
   "cell_type": "code",
   "execution_count": 22,
   "metadata": {
    "collapsed": true
   },
   "outputs": [],
   "source": [
    "encoded_raw.columns= ['col1', 'col2']"
   ]
  },
  {
   "cell_type": "code",
   "execution_count": 23,
   "metadata": {},
   "outputs": [
    {
     "data": {
      "image/png": "[encoded data removed]",
      "text/plain": [
       "<matplotlib.figure.Figure at 0x1ca4ce47b38>"
      ]
     },
     "metadata": {},
     "output_type": "display_data"
    }
   ],
   "source": [
    "encoded_raw.plot(kind='scatter', x='col1', y='col2');"
   ]
  },
  {
   "cell_type": "markdown",
   "metadata": {},
   "source": [
    "### add extra emphasis on  \"Elevation\""
   ]
  },
  {
   "cell_type": "code",
   "execution_count": null,
   "metadata": {
    "collapsed": true
   },
   "outputs": [],
   "source": []
  }
 ],
 "metadata": {
  "kernelspec": {
   "display_name": "Python 3",
   "language": "python",
   "name": "python3"
  },
  "language_info": {
   "codemirror_mode": {
    "name": "ipython",
    "version": 3
   },
   "file_extension": ".py",
   "mimetype": "text/x-python",
   "name": "python",
   "nbconvert_exporter": "python",
   "pygments_lexer": "ipython3",
   "version": "3.6.3"
  }
 },
 "nbformat": 4,
 "nbformat_minor": 2
}
